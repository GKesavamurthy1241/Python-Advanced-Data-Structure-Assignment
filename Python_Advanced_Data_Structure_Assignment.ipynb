{
  "nbformat": 4,
  "nbformat_minor": 0,
  "metadata": {
    "colab": {
      "provenance": []
    },
    "kernelspec": {
      "name": "python3",
      "display_name": "Python 3"
    },
    "language_info": {
      "name": "python"
    }
  },
  "cells": [
    {
      "cell_type": "markdown",
      "source": [
        "# **Name** – Gathram Kesava Murthy\n",
        "# **Registered mail id**- kesavagathram.murthy@outlook.com\n",
        "# **Course Name** – Master Generative AI: Data Science Course\n",
        "# **Assignment Name** – Python Advanced Data Structure Assignment\n",
        "# **Submission Date** – 25th October 2024\n",
        "# **Drive Link** - https://colab.research.google.com/drive/1X9Yc4n0VEQFNFYCCElKdA0GqseVTPIBU?usp=sharing\n",
        "\n"
      ],
      "metadata": {
        "id": "cbv-3JOBJb3x"
      }
    },
    {
      "cell_type": "markdown",
      "source": [
        "# 1.Write a code to reverse a string"
      ],
      "metadata": {
        "id": "EK1ZqaI_xTvk"
      }
    },
    {
      "cell_type": "code",
      "source": [
        "def reverse_string(s):\n",
        "    return s[::-1]\n",
        "\n",
        "original_string = input()\n",
        "reversed_string = reverse_string(original_string)\n",
        "print(reversed_string)"
      ],
      "metadata": {
        "colab": {
          "base_uri": "https://localhost:8080/",
          "height": 0
        },
        "id": "09_8ngQmw9NR",
        "outputId": "122a9373-5bbb-4dcd-f359-e7e5a15d6cb2"
      },
      "execution_count": 1,
      "outputs": [
        {
          "output_type": "stream",
          "name": "stdout",
          "text": [
            "PW Skills\n",
            "sllikS WP\n"
          ]
        }
      ]
    },
    {
      "cell_type": "markdown",
      "source": [
        "# 2.Write a code to count the number of vowels in a string"
      ],
      "metadata": {
        "id": "QxSLaga3xRJ2"
      }
    },
    {
      "cell_type": "code",
      "source": [
        "def count_vowels(s):\n",
        "    vowels = 'aeiouAEIOU'\n",
        "    count = 0\n",
        "    for char in s:\n",
        "        if char in vowels:\n",
        "            count += 1\n",
        "    return count\n",
        "\n",
        "input_string = input()\n",
        "vowel_count = count_vowels(input_string)\n",
        "print(f\"Number of vowels in '{input_string}': {vowel_count}\")"
      ],
      "metadata": {
        "colab": {
          "base_uri": "https://localhost:8080/",
          "height": 0
        },
        "id": "v4HJ1jk0xbLj",
        "outputId": "fe9e50d6-2d61-4035-9e96-2f57713b8299"
      },
      "execution_count": 3,
      "outputs": [
        {
          "output_type": "stream",
          "name": "stdout",
          "text": [
            "random\n",
            "Number of vowels in 'random': 2\n"
          ]
        }
      ]
    },
    {
      "cell_type": "markdown",
      "source": [
        "# 3.Write a code to check if a given string is a palindrome or not"
      ],
      "metadata": {
        "id": "_KRn-lwtxn4D"
      }
    },
    {
      "cell_type": "code",
      "source": [
        "def is_palindrome(s):\n",
        "    cleaned_string = ''.join(s.split()).lower()\n",
        "    return cleaned_string == cleaned_string[::-1]\n",
        "\n",
        "input_string = input()\n",
        "if is_palindrome(input_string):\n",
        "    print(f'\"{input_string}\" is a palindrome.')\n",
        "else:\n",
        "    print(f'\"{input_string}\" is not a palindrome.')"
      ],
      "metadata": {
        "colab": {
          "base_uri": "https://localhost:8080/",
          "height": 0
        },
        "id": "amVZcr14xtvK",
        "outputId": "5fbf916a-d3c7-46d4-f24b-58d2847feabd"
      },
      "execution_count": 4,
      "outputs": [
        {
          "output_type": "stream",
          "name": "stdout",
          "text": [
            "Madam\n",
            "\"Madam\" is a palindrome.\n"
          ]
        }
      ]
    },
    {
      "cell_type": "markdown",
      "source": [
        "# 4.Write a code to check if two given strings are anagrams of each other"
      ],
      "metadata": {
        "id": "9LrOPGYTx551"
      }
    },
    {
      "cell_type": "code",
      "source": [
        "def are_anagrams(s1, s2):\n",
        "    s1 = ''.join(s1.split()).lower()\n",
        "    s2 = ''.join(s2.split()).lower()\n",
        "    return sorted(s1) == sorted(s2)\n",
        "string1 = input()\n",
        "string2 = input()\n",
        "if are_anagrams(string1, string2):\n",
        "    print(f'\"{string1}\" and \"{string2}\" are anagrams.')\n",
        "else:\n",
        "    print(f'\"{string1}\" and \"{string2}\" are not anagrams.')"
      ],
      "metadata": {
        "colab": {
          "base_uri": "https://localhost:8080/",
          "height": 0
        },
        "id": "hlZjzKZBx-ay",
        "outputId": "18bd2756-6682-4b94-e933-3a3520c3e0e6"
      },
      "execution_count": 22,
      "outputs": [
        {
          "output_type": "stream",
          "name": "stdout",
          "text": [
            "Mam\n",
            "Mam\n",
            "\"Mam\" and \"Mam\" are anagrams.\n"
          ]
        }
      ]
    },
    {
      "cell_type": "markdown",
      "source": [
        "# 5.Write a code to find all occurrences of a given substring within another string"
      ],
      "metadata": {
        "id": "9e1cqB_zyLzQ"
      }
    },
    {
      "cell_type": "code",
      "source": [
        "def find_substring_occurrences(s, substring):\n",
        "    indices = []\n",
        "    start = 0\n",
        "    while start < len(s):\n",
        "        pos = s.find(substring, start)\n",
        "        if pos != -1:\n",
        "            indices.append(pos)\n",
        "            start = pos + 1\n",
        "        else:\n",
        "            break\n",
        "    return indices\n",
        "text = input()\n",
        "substring = input()\n",
        "occurrences = find_substring_occurrences(text, substring)\n",
        "print(f\"Occurrences of '{substring}' in '{text}': {occurrences}\")"
      ],
      "metadata": {
        "colab": {
          "base_uri": "https://localhost:8080/",
          "height": 0
        },
        "id": "NOcnez0oyXsX",
        "outputId": "2c737b3a-892f-4c16-edef-f83b0036959f"
      },
      "execution_count": 7,
      "outputs": [
        {
          "output_type": "stream",
          "name": "stdout",
          "text": [
            "PW Skills\n",
            "PW\n",
            "Occurrences of 'PW' in 'PW Skills': [0]\n"
          ]
        }
      ]
    },
    {
      "cell_type": "markdown",
      "source": [
        "# 6.Write a code to perform basic string compression using the counts of repeated characters"
      ],
      "metadata": {
        "id": "YUPjsqMGy9WN"
      }
    },
    {
      "cell_type": "code",
      "source": [
        "def compress_string(s):\n",
        "    if not s:\n",
        "        return \"\"\n",
        "    compressed = []\n",
        "    count = 1\n",
        "    for i in range(1, len(s)):\n",
        "        if s[i] == s[i - 1]:\n",
        "            count += 1\n",
        "        else:\n",
        "            compressed.append(s[i - 1] + str(count))\n",
        "            count = 1\n",
        "    compressed.append(s[-1] + str(count))\n",
        "    return ''.join(compressed)\n",
        "\n",
        "input_string = input()\n",
        "compressed_string = compress_string(input_string)\n",
        "print(f\"Compressed string: {compressed_string}\")"
      ],
      "metadata": {
        "colab": {
          "base_uri": "https://localhost:8080/",
          "height": 0
        },
        "id": "_1C87YITzCb1",
        "outputId": "122fe0c4-5524-472a-a1b6-505054ca20b9"
      },
      "execution_count": 8,
      "outputs": [
        {
          "output_type": "stream",
          "name": "stdout",
          "text": [
            "aaaaabbbbbbccccdefghgh\n",
            "Compressed string: a5b6c4d1e1f1g1h1g1h1\n"
          ]
        }
      ]
    },
    {
      "cell_type": "markdown",
      "source": [
        "# 7.Write a code to determine if a string has all unique characters"
      ],
      "metadata": {
        "id": "osywZFpBzyyd"
      }
    },
    {
      "cell_type": "code",
      "source": [
        "def has_unique_characters(s):\n",
        "    seen_characters = set()\n",
        "    for char in s:\n",
        "        if char in seen_characters:\n",
        "            return False\n",
        "        seen_characters.add(char)\n",
        "    return True\n",
        "input_string = input()\n",
        "if has_unique_characters(input_string):\n",
        "    print(f'\"{input_string}\" has all unique characters.')\n",
        "else:\n",
        "    print(f'\"{input_string}\" does not have all unique characters.')\n"
      ],
      "metadata": {
        "colab": {
          "base_uri": "https://localhost:8080/",
          "height": 0
        },
        "id": "kU0GzIPXz4lm",
        "outputId": "c325a346-8ca4-4577-d04d-52ad777245f2"
      },
      "execution_count": 9,
      "outputs": [
        {
          "output_type": "stream",
          "name": "stdout",
          "text": [
            "abcdefga\n",
            "\"abcdefga\" does not have all unique characters.\n"
          ]
        }
      ]
    },
    {
      "cell_type": "markdown",
      "source": [
        "# 8.Write a code to convert a given string to uppercase or lowercase"
      ],
      "metadata": {
        "id": "sfZMw5wG0c2-"
      }
    },
    {
      "cell_type": "code",
      "source": [
        "def convert_case(s, to_upper=True):\n",
        "    if to_upper:\n",
        "        return s.upper()\n",
        "    else:\n",
        "        return s.lower()\n",
        "input_string = input()\n",
        "uppercase_string = convert_case(input_string, to_upper=True)\n",
        "print(f\"Uppercase: {uppercase_string}\")\n",
        "lowercase_string = convert_case(input_string, to_upper=False)\n",
        "print(f\"Lowercase: {lowercase_string}\")"
      ],
      "metadata": {
        "colab": {
          "base_uri": "https://localhost:8080/",
          "height": 0
        },
        "id": "M1W2tSqh0z-l",
        "outputId": "670a2cee-62ef-4a02-c364-88616723b000"
      },
      "execution_count": 10,
      "outputs": [
        {
          "output_type": "stream",
          "name": "stdout",
          "text": [
            "Hello World\n",
            "Uppercase: HELLO WORLD\n",
            "Lowercase: hello world\n"
          ]
        }
      ]
    },
    {
      "cell_type": "markdown",
      "source": [
        "# 9.Write a code to count the number of words in a string"
      ],
      "metadata": {
        "id": "7Nd4DhJj1QA_"
      }
    },
    {
      "cell_type": "code",
      "source": [
        "def count_words(s):\n",
        "    words = s.split()\n",
        "    return len(words)\n",
        "input_string = input()\n",
        "word_count = count_words(input_string)\n",
        "print(f\"Number of words in the string: {word_count}\")"
      ],
      "metadata": {
        "colab": {
          "base_uri": "https://localhost:8080/",
          "height": 0
        },
        "id": "AZ0tEMJn1RKE",
        "outputId": "c00b84d3-b00d-4cd4-ac2e-6a915b4926cf"
      },
      "execution_count": 11,
      "outputs": [
        {
          "output_type": "stream",
          "name": "stdout",
          "text": [
            "He is looking outside the home through window\n",
            "Number of words in the string: 8\n"
          ]
        }
      ]
    },
    {
      "cell_type": "markdown",
      "source": [
        "# 10.Write a code to concatenate two strings without using the + operator"
      ],
      "metadata": {
        "id": "Fnqm5tQr1gJ8"
      }
    },
    {
      "cell_type": "code",
      "source": [
        "def concatenate_strings(s1, s2):\n",
        "    return ''.join([s1, s2])\n",
        "string1 = input()\n",
        "string2 = input()\n",
        "result = concatenate_strings(string1, string2)\n",
        "print(f\"Concatenated string: {result}\")"
      ],
      "metadata": {
        "colab": {
          "base_uri": "https://localhost:8080/",
          "height": 0
        },
        "id": "1EM1JKAP1iVr",
        "outputId": "c7eb1392-7713-4cd4-a419-b1cba7e88037"
      },
      "execution_count": 12,
      "outputs": [
        {
          "output_type": "stream",
          "name": "stdout",
          "text": [
            "Kesava\n",
            "Murthy\n",
            "Concatenated string: KesavaMurthy\n"
          ]
        }
      ]
    },
    {
      "cell_type": "markdown",
      "source": [
        "# 11. Write a code to remove all occurrences of a specific element from a list"
      ],
      "metadata": {
        "id": "darZW_RK12F_"
      }
    },
    {
      "cell_type": "code",
      "source": [
        "def remove_occurrences(lst, element):\n",
        "    return [x for x in lst if x != element]\n",
        "input_list = eval(input())\n",
        "element_to_remove = int(input())\n",
        "result = remove_occurrences(input_list, element_to_remove)\n",
        "print(f\"List after removing {element_to_remove}: {result}\")"
      ],
      "metadata": {
        "colab": {
          "base_uri": "https://localhost:8080/",
          "height": 0
        },
        "id": "8EpeIcOL17_3",
        "outputId": "582fa869-2a8b-4ba2-9181-5f9634a3e0ce"
      },
      "execution_count": 13,
      "outputs": [
        {
          "output_type": "stream",
          "name": "stdout",
          "text": [
            "[1,2,3,4,5,2]\n",
            "2\n",
            "List after removing 2: [1, 3, 4, 5]\n"
          ]
        }
      ]
    },
    {
      "cell_type": "markdown",
      "source": [
        "# 12.Implement a code to find the second largest number in a given list of integers"
      ],
      "metadata": {
        "id": "jxjHK-ml2tQC"
      }
    },
    {
      "cell_type": "code",
      "source": [
        "def find_second_largest(lst):\n",
        "    unique_numbers = set(lst)\n",
        "    if len(unique_numbers) < 2:\n",
        "        return None\n",
        "    sorted_numbers = sorted(unique_numbers, reverse=True)\n",
        "    return sorted_numbers[1]\n",
        "input_list = eval(input())\n",
        "second_largest = find_second_largest(input_list)\n",
        "if second_largest is not None:\n",
        "    print(f\"The second largest number is: {second_largest}\")\n",
        "else:\n",
        "    print(\"There are not enough unique numbers to determine the second largest.\")"
      ],
      "metadata": {
        "colab": {
          "base_uri": "https://localhost:8080/",
          "height": 0
        },
        "id": "uOIhgcPM25Yz",
        "outputId": "b58ed9b5-b132-4777-bb2a-76f82fc6455a"
      },
      "execution_count": 14,
      "outputs": [
        {
          "output_type": "stream",
          "name": "stdout",
          "text": [
            "[1,2,3,4,5,6,7,8,1,2]\n",
            "The second largest number is: 7\n"
          ]
        }
      ]
    },
    {
      "cell_type": "markdown",
      "source": [
        "# 13.Create a code to count the occurrences of each element in a list and return a dictionary with elements as keys and their counts as values\n"
      ],
      "metadata": {
        "id": "SExDzEAc3G60"
      }
    },
    {
      "cell_type": "code",
      "source": [
        "def count_occurrences(lst):\n",
        "    count_dict = {}\n",
        "    for element in lst:\n",
        "        if element in count_dict:\n",
        "            count_dict[element] += 1\n",
        "        else:\n",
        "            count_dict[element] = 1\n",
        "    return count_dict\n",
        "input_list = eval(input())\n",
        "occurrences = count_occurrences(input_list)\n",
        "print(f\"Occurrences of each element: {occurrences}\")"
      ],
      "metadata": {
        "colab": {
          "base_uri": "https://localhost:8080/",
          "height": 0
        },
        "id": "ALQ94qnz3MT6",
        "outputId": "a59a85a0-0a9c-4662-9c74-0d022d6f1554"
      },
      "execution_count": 16,
      "outputs": [
        {
          "output_type": "stream",
          "name": "stdout",
          "text": [
            "[1,2,3,4,5,6,1,2,3,4]\n",
            "Occurrences of each element: {1: 2, 2: 2, 3: 2, 4: 2, 5: 1, 6: 1}\n"
          ]
        }
      ]
    },
    {
      "cell_type": "markdown",
      "source": [
        "# 14.Write a code to reverse a list in-place without using any built-in reverse functions"
      ],
      "metadata": {
        "id": "fZDYM1hF3dW5"
      }
    },
    {
      "cell_type": "code",
      "source": [
        "def reverse_list_in_place(lst):\n",
        "    left = 0\n",
        "    right = len(lst) - 1\n",
        "    while left < right:\n",
        "        lst[left], lst[right] = lst[right], lst[left]\n",
        "        left += 1\n",
        "        right -= 1\n",
        "input_list = eval(input(\"Enter a list of elements : \"))\n",
        "reverse_list_in_place(input_list)\n",
        "print(f\"Reversed list: {input_list}\")"
      ],
      "metadata": {
        "colab": {
          "base_uri": "https://localhost:8080/",
          "height": 0
        },
        "id": "xB8kvM6n3j9j",
        "outputId": "151c192d-13dd-4e03-af1d-d268bfa8f6cb"
      },
      "execution_count": 17,
      "outputs": [
        {
          "output_type": "stream",
          "name": "stdout",
          "text": [
            "Enter a list of elements : [1,2,3,4,5,6,7]\n",
            "Reversed list: [7, 6, 5, 4, 3, 2, 1]\n"
          ]
        }
      ]
    },
    {
      "cell_type": "markdown",
      "source": [
        "# 15.Implement a code to find and remove duplicates from a list while preserving the original order of elements\n"
      ],
      "metadata": {
        "id": "AuVPYNO832Lr"
      }
    },
    {
      "cell_type": "code",
      "source": [
        "def remove_duplicates_preserve_order(lst):\n",
        "    seen = set()\n",
        "    result = []\n",
        "    for element in lst:\n",
        "        if element not in seen:\n",
        "            seen.add(element)\n",
        "            result.append(element)\n",
        "    return result\n",
        "input_list = eval(input(\"Enter a list of elements : \"))\n",
        "unique_list = remove_duplicates_preserve_order(input_list)\n",
        "print(f\"List after removing duplicates: {unique_list}\")\n"
      ],
      "metadata": {
        "colab": {
          "base_uri": "https://localhost:8080/",
          "height": 0
        },
        "id": "dzQMaTkK33lO",
        "outputId": "e76fa8d2-4b9c-4660-c7da-43cd9ee152ff"
      },
      "execution_count": 18,
      "outputs": [
        {
          "output_type": "stream",
          "name": "stdout",
          "text": [
            "Enter a list of elements : [1,2,3,4,5,6,7,1,2,3,4]\n",
            "List after removing duplicates: [1, 2, 3, 4, 5, 6, 7]\n"
          ]
        }
      ]
    },
    {
      "cell_type": "markdown",
      "source": [
        "# 16.Create a code to check if a given list is sorted (either in ascending or descending order) or not"
      ],
      "metadata": {
        "id": "leSy-h2l4SSZ"
      }
    },
    {
      "cell_type": "code",
      "source": [
        "def is_sorted(lst):\n",
        "    if len(lst) <= 1:\n",
        "        return True\n",
        "    ascending = all(lst[i] <= lst[i + 1] for i in range(len(lst) - 1))\n",
        "    descending = all(lst[i] >= lst[i + 1] for i in range(len(lst) - 1))\n",
        "    return ascending or descending\n",
        "input_list = eval(input(\"Enter a list of elements :\"))\n",
        "if is_sorted(input_list):\n",
        "    print(\"The list is sorted.\")\n",
        "else:\n",
        "    print(\"The list is not sorted.\")\n"
      ],
      "metadata": {
        "colab": {
          "base_uri": "https://localhost:8080/",
          "height": 0
        },
        "id": "ISfA46G44T1i",
        "outputId": "5817c132-d2ad-4878-b835-5c64debe854b"
      },
      "execution_count": 22,
      "outputs": [
        {
          "output_type": "stream",
          "name": "stdout",
          "text": [
            "Enter a list of elements :[1,2,3,4,5,6,7,8,9]\n",
            "The list is sorted.\n"
          ]
        }
      ]
    },
    {
      "cell_type": "markdown",
      "source": [
        "# 17.Write a code to merge two sorted lists into a single sorted list"
      ],
      "metadata": {
        "id": "0G-GP9Re4_iE"
      }
    },
    {
      "cell_type": "code",
      "source": [
        "def merge_sorted_lists(list1, list2):\n",
        "    merged_list = []\n",
        "    i, j = 0, 0\n",
        "    while i < len(list1) and j < len(list2):\n",
        "        if list1[i] < list2[j]:\n",
        "            merged_list.append(list1[i])\n",
        "            i += 1\n",
        "        else:\n",
        "            merged_list.append(list2[j])\n",
        "            j += 1\n",
        "    while i < len(list1):\n",
        "        merged_list.append(list1[i])\n",
        "        i += 1\n",
        "    while j < len(list2):\n",
        "        merged_list.append(list2[j])\n",
        "        j += 1\n",
        "    return merged_list\n",
        "list1 = eval(input(\"Enter the first sorted list : \"))\n",
        "list2 = eval(input(\"Enter the second sorted list : \"))\n",
        "merged = merge_sorted_lists(list1, list2)\n",
        "print(f\"Merged sorted list: {merged}\")"
      ],
      "metadata": {
        "colab": {
          "base_uri": "https://localhost:8080/",
          "height": 0
        },
        "id": "XkLdO0dX5E1V",
        "outputId": "7a5d793b-b23f-4e83-95fc-92e5f9533403"
      },
      "execution_count": 23,
      "outputs": [
        {
          "output_type": "stream",
          "name": "stdout",
          "text": [
            "Enter the first sorted list : [1,2,3,4]\n",
            "Enter the second sorted list : [5,6,7]\n",
            "Merged sorted list: [1, 2, 3, 4, 5, 6, 7]\n"
          ]
        }
      ]
    },
    {
      "cell_type": "markdown",
      "source": [
        "# 18.Implement a code to find the intersection of two given lists"
      ],
      "metadata": {
        "id": "cZnhIrq95XZs"
      }
    },
    {
      "cell_type": "code",
      "source": [
        "def intersection_of_lists(list1, list2):\n",
        "    set1 = set(list1)\n",
        "    set2 = set(list2)\n",
        "    return list(set1.intersection(set2))\n",
        "list1 = eval(input(\"Enter the first list : \"))\n",
        "list2 = eval(input(\"Enter the second list : \"))\n",
        "intersection = intersection_of_lists(list1, list2)\n",
        "print(f\"Intersection of the two lists: {intersection}\")"
      ],
      "metadata": {
        "colab": {
          "base_uri": "https://localhost:8080/",
          "height": 0
        },
        "id": "u2RGzMn05eDZ",
        "outputId": "90d7caa9-832d-44c5-ecda-907b7de98a78"
      },
      "execution_count": 24,
      "outputs": [
        {
          "output_type": "stream",
          "name": "stdout",
          "text": [
            "Enter the first list : [1,2,3,4,5,6]\n",
            "Enter the second list : [4,5,6,7,8,9,1]\n",
            "Intersection of the two lists: [1, 4, 5, 6]\n"
          ]
        }
      ]
    },
    {
      "cell_type": "markdown",
      "source": [
        "# 19. Create a code to find the union of two lists without duplicates"
      ],
      "metadata": {
        "id": "66jZ_5565r9n"
      }
    },
    {
      "cell_type": "code",
      "source": [
        "def union_of_lists(list1, list2):\n",
        "    union_set = set(list1)\n",
        "    union_set.update(list2)\n",
        "    return list(union_set)\n",
        "list1 = eval(input(\"Enter the first list : \"))\n",
        "list2 = eval(input(\"Enter the second list : \"))\n",
        "union = union_of_lists(list1, list2)\n",
        "print(f\"Union of the two lists without duplicates: {union}\")"
      ],
      "metadata": {
        "colab": {
          "base_uri": "https://localhost:8080/",
          "height": 0
        },
        "id": "sUkvL7zs51GC",
        "outputId": "b868fe1c-87b7-4a2a-e8a8-a61ae561e264"
      },
      "execution_count": 25,
      "outputs": [
        {
          "output_type": "stream",
          "name": "stdout",
          "text": [
            "Enter the first list : [1,2,3,4,5]\n",
            "Enter the second list : [6,7,8,9,0]\n",
            "Union of the two lists without duplicates: [0, 1, 2, 3, 4, 5, 6, 7, 8, 9]\n"
          ]
        }
      ]
    },
    {
      "cell_type": "markdown",
      "source": [
        " # 20. Write a code to shuffle a given list randomly without using any built-in shuffle functions"
      ],
      "metadata": {
        "id": "TlPQT_EV6C5f"
      }
    },
    {
      "cell_type": "code",
      "source": [
        "import random\n",
        "def shuffle_list(lst):\n",
        "    shuffled_list = lst[:]\n",
        "    n = len(shuffled_list)\n",
        "    for i in range(n - 1, 0, -1):\n",
        "        j = random.randint(0, i)\n",
        "        shuffled_list[i], shuffled_list[j] = shuffled_list[j], shuffled_list[i]\n",
        "    return shuffled_list\n",
        "input_list = eval(input(\"Enter a list of elements : \"))\n",
        "shuffled = shuffle_list(input_list)\n",
        "print(f\"Shuffled list: {shuffled}\")"
      ],
      "metadata": {
        "colab": {
          "base_uri": "https://localhost:8080/",
          "height": 0
        },
        "id": "MlkgCgCn6DZA",
        "outputId": "45c72607-340a-48af-b007-f26b309d060f"
      },
      "execution_count": 26,
      "outputs": [
        {
          "output_type": "stream",
          "name": "stdout",
          "text": [
            "Enter a list of elements : [1,2,3,4,5,6,7,8,9,0]\n",
            "Shuffled list: [5, 9, 1, 6, 7, 3, 2, 0, 8, 4]\n"
          ]
        }
      ]
    },
    {
      "cell_type": "markdown",
      "source": [
        "# 21.Write a code that takes two tuples as input and returns a new tuple containing elements that are common to both input tuples"
      ],
      "metadata": {
        "id": "fRMAF5Z26myA"
      }
    },
    {
      "cell_type": "code",
      "source": [
        "def common_elements_ordered(tuple1, tuple2):\n",
        "    set2 = set(tuple2)\n",
        "    return tuple(element for element in tuple1 if element in set2)\n",
        "tuple1 = eval(input(\"Enter the first tuple : \"))\n",
        "tuple2 = eval(input(\"Enter the second tuple : \"))\n",
        "common_ordered_tuple = common_elements_ordered(tuple1, tuple2)\n",
        "print(f\"Common elements in both tuples (ordered): {common_ordered_tuple}\")"
      ],
      "metadata": {
        "colab": {
          "base_uri": "https://localhost:8080/",
          "height": 0
        },
        "id": "ihkf5W0W6zEr",
        "outputId": "3059da83-00e0-43da-841d-41bd722f45ec"
      },
      "execution_count": 1,
      "outputs": [
        {
          "output_type": "stream",
          "name": "stdout",
          "text": [
            "Enter the first tuple : [1,2,3,4,5]\n",
            "Enter the second tuple : [1,3,4,5,6]\n",
            "Common elements in both tuples (ordered): (1, 3, 4, 5)\n"
          ]
        }
      ]
    },
    {
      "cell_type": "markdown",
      "source": [
        "# 22.Create a code that prompts the user to enter two sets of integers separated by commas. Then, print the intersection of these two sets"
      ],
      "metadata": {
        "id": "xZC0LO7l7bF7"
      }
    },
    {
      "cell_type": "code",
      "source": [
        "def get_set_from_input(prompt):\n",
        "    user_input = input(prompt)\n",
        "    return set(int(x.strip()) for x in user_input.split(','))\n",
        "set1 = get_set_from_input(\"Enter the first set of integers : \")\n",
        "set2 = get_set_from_input(\"Enter the second set of integers : \")\n",
        "intersection = set1.intersection(set2)\n",
        "print(f\"Intersection of the two sets: {intersection}\")"
      ],
      "metadata": {
        "colab": {
          "base_uri": "https://localhost:8080/",
          "height": 0
        },
        "id": "fYioxzD17JLB",
        "outputId": "4d0a73b7-9285-4852-a709-fb2cbe923f62"
      },
      "execution_count": 3,
      "outputs": [
        {
          "output_type": "stream",
          "name": "stdout",
          "text": [
            "Enter the first set of integers : 1,2,3,4\n",
            "Enter the second set of integers : 4,5,6,7\n",
            "Intersection of the two sets: {4}\n"
          ]
        }
      ]
    },
    {
      "cell_type": "markdown",
      "source": [
        "# 23. Write a code to concatenate two tuples. The function should take two tuples as input and return a new tuple containing elements from both input tuples."
      ],
      "metadata": {
        "id": "B1lwuTLK8S5c"
      }
    },
    {
      "cell_type": "code",
      "source": [
        "def concatenate_tuples(tuple1, tuple2):\n",
        "    return tuple1 + tuple2\n",
        "tuple1 = eval(input(\"Enter the first tuple : \"))\n",
        "tuple2 = eval(input(\"Enter the second tuple: \"))\n",
        "result_tuple = concatenate_tuples(tuple1, tuple2)\n",
        "print(f\"Concatenated tuple: {result_tuple}\")"
      ],
      "metadata": {
        "colab": {
          "base_uri": "https://localhost:8080/",
          "height": 0
        },
        "id": "4LLMXvEk8UWO",
        "outputId": "bfe81cc8-3a1c-42d6-b23a-69ef8fc70628"
      },
      "execution_count": 4,
      "outputs": [
        {
          "output_type": "stream",
          "name": "stdout",
          "text": [
            "Enter the first tuple : 1,2,3,4\n",
            "Enter the second tuple: 5,6,7,8\n",
            "Concatenated tuple: (1, 2, 3, 4, 5, 6, 7, 8)\n"
          ]
        }
      ]
    },
    {
      "cell_type": "markdown",
      "source": [
        "# 24.Develop a code that prompts the user to input two sets of strings. Then, print the elements that are present in the first set but not in the second set"
      ],
      "metadata": {
        "id": "_aCkuKqW8y-h"
      }
    },
    {
      "cell_type": "code",
      "source": [
        "def get_set_from_input(prompt):\n",
        "    user_input = input(prompt)\n",
        "    return set(x.strip() for x in user_input.split(','))\n",
        "set1 = get_set_from_input(\"Enter the first set of strings : \")\n",
        "set2 = get_set_from_input(\"Enter the second set of strings : \")\n",
        "difference = set1.difference(set2)\n",
        "print(f\"Elements present in the first set but not in the second set: {difference}\")"
      ],
      "metadata": {
        "colab": {
          "base_uri": "https://localhost:8080/",
          "height": 0
        },
        "id": "qyjt5w6h9EEf",
        "outputId": "263b0d28-1a51-4184-9ca5-cebac0eb27bc"
      },
      "execution_count": 5,
      "outputs": [
        {
          "output_type": "stream",
          "name": "stdout",
          "text": [
            "Enter the first set of strings : a,b,c\n",
            "Enter the second set of strings : b,c,d\n",
            "Elements present in the first set but not in the second set: {'a'}\n"
          ]
        }
      ]
    },
    {
      "cell_type": "markdown",
      "source": [
        "# 25.Create a code that takes a tuple and two integers as input. The function should return a new tuple containing elements from the original tuple within the specified range of indices"
      ],
      "metadata": {
        "id": "Kp5vszRY9kc_"
      }
    },
    {
      "cell_type": "code",
      "source": [
        "def slice_tuple(original_tuple, start_index, end_index):\n",
        "    return original_tuple[start_index:end_index]\n",
        "original_tuple = eval(input(\"Enter a tuple : \"))\n",
        "start_index = int(input(\"Enter the start index: \"))\n",
        "end_index = int(input(\"Enter the end index: \"))\n",
        "sliced_tuple = slice_tuple(original_tuple, start_index, end_index)\n",
        "print(f\"Sliced tuple: {sliced_tuple}\")"
      ],
      "metadata": {
        "colab": {
          "base_uri": "https://localhost:8080/",
          "height": 0
        },
        "id": "3gNzTwBp9qU1",
        "outputId": "d7445979-38ca-4234-f68b-e1dca1bcb518"
      },
      "execution_count": 6,
      "outputs": [
        {
          "output_type": "stream",
          "name": "stdout",
          "text": [
            "Enter a tuple : 1,2,3,4,5\n",
            "Enter the start index: 3\n",
            "Enter the end index: 4\n",
            "Sliced tuple: (4,)\n"
          ]
        }
      ]
    },
    {
      "cell_type": "markdown",
      "source": [
        "# 26. Write a code that prompts the user to input two sets of characters. Then, print the union of these two **sets**"
      ],
      "metadata": {
        "id": "Ls-Dw7vl-H0T"
      }
    },
    {
      "cell_type": "code",
      "source": [
        "def get_set_from_input(prompt):\n",
        "    user_input = input(prompt)\n",
        "    return set(x.strip() for x in user_input.split(','))\n",
        "set1 = get_set_from_input(\"Enter the first set of characters : \")\n",
        "set2 = get_set_from_input(\"Enter the second set of characters : \")\n",
        "union_set = set1.union(set2)\n",
        "print(f\"Union of the two sets: {union_set}\")"
      ],
      "metadata": {
        "colab": {
          "base_uri": "https://localhost:8080/",
          "height": 0
        },
        "id": "Tdap9v7Q-cex",
        "outputId": "72d1b9da-3fde-4dd8-b70f-102bc68e8787"
      },
      "execution_count": 8,
      "outputs": [
        {
          "output_type": "stream",
          "name": "stdout",
          "text": [
            "Enter the first set of characters : a,b,c\n",
            "Enter the second set of characters : c,d,e\n",
            "Union of the two sets: {'b', 'e', 'd', 'a', 'c'}\n"
          ]
        }
      ]
    },
    {
      "cell_type": "markdown",
      "source": [
        "# 27. Develop a code that takes a tuple of integers as input. The function should return the maximum and minimum values from the tuple using tuple unpacking\n"
      ],
      "metadata": {
        "id": "L6AIX9nGE9RA"
      }
    },
    {
      "cell_type": "code",
      "source": [
        "def max_min_from_tuple(int_tuple):\n",
        "    max_value = max(int_tuple)\n",
        "    min_value = min(int_tuple)\n",
        "    return max_value, min_value\n",
        "input_tuple = eval(input(\"Enter a tuple of integers : \"))\n",
        "max_value, min_value = max_min_from_tuple(input_tuple)\n",
        "print(f\"Maximum value: {max_value}\")\n",
        "print(f\"Minimum value: {min_value}\")"
      ],
      "metadata": {
        "colab": {
          "base_uri": "https://localhost:8080/",
          "height": 0
        },
        "id": "p3wud7FfFIPC",
        "outputId": "bae36822-090a-47b7-8c40-45e99d6daa94"
      },
      "execution_count": 9,
      "outputs": [
        {
          "output_type": "stream",
          "name": "stdout",
          "text": [
            "Enter a tuple of integers : 1,2,3,4,5\n",
            "Maximum value: 5\n",
            "Minimum value: 1\n"
          ]
        }
      ]
    },
    {
      "cell_type": "markdown",
      "source": [
        "# 28.Create a code that defines two sets of integers. Then, print the union, intersection, and difference of these two sets"
      ],
      "metadata": {
        "id": "unVD7kQWFXkn"
      }
    },
    {
      "cell_type": "code",
      "source": [
        "set1 = {1, 2, 3, 4, 5}\n",
        "set2 = {4, 5, 6, 7, 8}\n",
        "union_set = set1.union(set2)\n",
        "intersection_set = set1.intersection(set2)\n",
        "difference_set = set1.difference(set2)\n",
        "print(f\"Set 1: {set1}\")\n",
        "print(f\"Set 2: {set2}\")\n",
        "print(f\"Union of the two sets: {union_set}\")\n",
        "print(f\"Intersection of the two sets: {intersection_set}\")\n",
        "print(f\"Difference (Set 1 - Set 2): {difference_set}\")"
      ],
      "metadata": {
        "colab": {
          "base_uri": "https://localhost:8080/",
          "height": 0
        },
        "id": "iHn91FaSFj3E",
        "outputId": "96304309-c79e-4471-8840-2cb4a187b864"
      },
      "execution_count": 10,
      "outputs": [
        {
          "output_type": "stream",
          "name": "stdout",
          "text": [
            "Set 1: {1, 2, 3, 4, 5}\n",
            "Set 2: {4, 5, 6, 7, 8}\n",
            "Union of the two sets: {1, 2, 3, 4, 5, 6, 7, 8}\n",
            "Intersection of the two sets: {4, 5}\n",
            "Difference (Set 1 - Set 2): {1, 2, 3}\n"
          ]
        }
      ]
    },
    {
      "cell_type": "markdown",
      "source": [
        "# 29.Write a code that takes a tuple and an element as input. The function should return the count of occurrences of the given element in the tuple"
      ],
      "metadata": {
        "id": "Zru6WogGFv7E"
      }
    },
    {
      "cell_type": "code",
      "source": [
        "def count_occurrences(input_tuple, element):\n",
        "    return input_tuple.count(element)\n",
        "input_tuple = eval(input(\"Enter a tuple : \"))\n",
        "element = eval(input(\"Enter the element to count : \"))\n",
        "occurrences = count_occurrences(input_tuple, element)\n",
        "print(f\"The element {element} occurs {occurrences} time(s) in the tuple.\")"
      ],
      "metadata": {
        "colab": {
          "base_uri": "https://localhost:8080/",
          "height": 0
        },
        "id": "FmJOF1elFyeu",
        "outputId": "0660dfd2-49da-4412-fba2-15d04a4bd246"
      },
      "execution_count": 11,
      "outputs": [
        {
          "output_type": "stream",
          "name": "stdout",
          "text": [
            "Enter a tuple : 1,2,3,4,5,6,1\n",
            "Enter the element to count : 1\n",
            "The element 1 occurs 2 time(s) in the tuple.\n"
          ]
        }
      ]
    },
    {
      "cell_type": "markdown",
      "source": [
        "# 30.Develop a code that prompts the user to input two sets of strings. Then, print the symmetric difference of these two sets"
      ],
      "metadata": {
        "id": "GS0hX4olGJBi"
      }
    },
    {
      "cell_type": "code",
      "source": [
        "def get_set_from_input(prompt):\n",
        "    user_input = input(prompt)\n",
        "    return set(x.strip() for x in user_input.split(','))\n",
        "set1 = get_set_from_input(\"Enter the first set of strings : \")\n",
        "set2 = get_set_from_input(\"Enter the second set of strings : \")\n",
        "symmetric_difference = set1.symmetric_difference(set2)\n",
        "print(f\"Symmetric difference of the two sets: {symmetric_difference}\")\n"
      ],
      "metadata": {
        "colab": {
          "base_uri": "https://localhost:8080/",
          "height": 0
        },
        "id": "AUsPpgQ7GKUj",
        "outputId": "0400cf9d-c616-4cd7-9021-eef403c6eb49"
      },
      "execution_count": 12,
      "outputs": [
        {
          "output_type": "stream",
          "name": "stdout",
          "text": [
            "Enter the first set of strings : a,b,c\n",
            "Enter the second set of strings : c,b,a\n",
            "Symmetric difference of the two sets: set()\n"
          ]
        }
      ]
    },
    {
      "cell_type": "markdown",
      "source": [
        "# 31. Write a code that takes a list of words as input and returns a dictionary where the keys are unique words and the values are the frequencies of those words in the input list"
      ],
      "metadata": {
        "id": "2dS8N5cNGimu"
      }
    },
    {
      "cell_type": "code",
      "source": [
        "def word_frequencies(word_list):\n",
        "    frequency_dict = {}\n",
        "    for word in word_list:\n",
        "        if word in frequency_dict:\n",
        "            frequency_dict[word] += 1\n",
        "        else:\n",
        "            frequency_dict[word] = 1\n",
        "    return frequency_dict\n",
        "input_words = input(\"Enter a list of words separated by spaces: \").split()\n",
        "frequencies = word_frequencies(input_words)\n",
        "print(\"Word frequencies:\", frequencies)"
      ],
      "metadata": {
        "colab": {
          "base_uri": "https://localhost:8080/",
          "height": 0
        },
        "id": "72IG1c15Gjy3",
        "outputId": "42734b3e-138a-442a-e230-15ee18c952eb"
      },
      "execution_count": 13,
      "outputs": [
        {
          "output_type": "stream",
          "name": "stdout",
          "text": [
            "Enter a list of words separated by spaces: a a a b b b c c\n",
            "Word frequencies: {'a': 3, 'b': 3, 'c': 2}\n"
          ]
        }
      ]
    },
    {
      "cell_type": "markdown",
      "source": [
        "# 32.Write a code that takes two dictionaries as input and merges them into a single dictionary. If there are common keys, the values should be added together"
      ],
      "metadata": {
        "id": "ObeH8cLvG139"
      }
    },
    {
      "cell_type": "code",
      "source": [
        "def merge_dictionaries(dict1, dict2):\n",
        "    merged_dict = dict1.copy()\n",
        "    for key, value in dict2.items():\n",
        "        if key in merged_dict:\n",
        "            merged_dict[key] += value\n",
        "        else:\n",
        "            merged_dict[key] = value\n",
        "    return merged_dict\n",
        "dict1 = eval(input(\"Enter the first dictionary : \"))\n",
        "dict2 = eval(input(\"Enter the second dictionary : \"))\n",
        "result_dict = merge_dictionaries(dict1, dict2)\n",
        "print(\"Merged dictionary:\", result_dict)"
      ],
      "metadata": {
        "colab": {
          "base_uri": "https://localhost:8080/",
          "height": 0
        },
        "id": "SZhzGUPUHC_P",
        "outputId": "6cd92fd2-febf-470b-8386-bc73976eaa64"
      },
      "execution_count": 14,
      "outputs": [
        {
          "output_type": "stream",
          "name": "stdout",
          "text": [
            "Enter the first dictionary : {'a':1,'b':2}\n",
            "Enter the second dictionary :  {'c':3,'d':4}\n",
            "Merged dictionary: {'a': 1, 'b': 2, 'c': 3, 'd': 4}\n"
          ]
        }
      ]
    },
    {
      "cell_type": "markdown",
      "source": [
        "# 33. Write a code to access a value in a nested dictionary. The function should take the dictionary and a list of keys as input, and return the corresponding value. If any of the keys do not exist in the dictionary, the function should return None"
      ],
      "metadata": {
        "id": "OvQkpHFKHVE0"
      }
    },
    {
      "cell_type": "code",
      "source": [
        "def access_nested_dict(nested_dict, keys):\n",
        "    current_value = nested_dict\n",
        "    for key in keys:\n",
        "        if key in current_value:\n",
        "            current_value = current_value[key]\n",
        "        else:\n",
        "            return None\n",
        "    return current_value\n",
        "nested_dictionary = {\n",
        "    'a': {\n",
        "        'b': {\n",
        "            'c': 1\n",
        "        },\n",
        "        'd': 2\n",
        "    },\n",
        "    'e': 3\n",
        "}\n",
        "keys_input = input(\"Enter the list of keys separated by commas : \")\n",
        "keys_list = [key.strip() for key in keys_input.split(',')]\n",
        "result = access_nested_dict(nested_dictionary, keys_list)\n",
        "if result is not None:\n",
        "    print(f\"The value corresponding to the keys {keys_list} is: {result}\")\n",
        "else:\n",
        "    print(f\"One or more keys {keys_list} do not exist in the dictionary.\")"
      ],
      "metadata": {
        "colab": {
          "base_uri": "https://localhost:8080/",
          "height": 0
        },
        "id": "tKlzO0nkHs0b",
        "outputId": "a796fbda-a6f6-4c72-fbbf-54a860528340"
      },
      "execution_count": 17,
      "outputs": [
        {
          "output_type": "stream",
          "name": "stdout",
          "text": [
            "Enter the list of keys separated by commas : a,b,c\n",
            "The value corresponding to the keys ['a', 'b', 'c'] is: 1\n"
          ]
        }
      ]
    },
    {
      "cell_type": "markdown",
      "source": [
        "# 34.Write a code that takes a dictionary as input and returns a sorted version of it based on the values. You can choose whether to sort in ascending or descending order"
      ],
      "metadata": {
        "id": "aXnfyGCfIPLP"
      }
    },
    {
      "cell_type": "code",
      "source": [
        "def sort_dictionary_by_values(input_dict, descending=False):\n",
        "    sorted_dict = dict(sorted(input_dict.items(), key=lambda item: item[1], reverse=descending))\n",
        "    return sorted_dict\n",
        "user_input = eval(input(\"Enter a dictionary : \"))\n",
        "order_input = input(\"Sort in descending order? (yes/no): \").strip().lower()\n",
        "descending_order = order_input == 'yes'\n",
        "sorted_result = sort_dictionary_by_values(user_input, descending=descending_order)\n",
        "print(\"Sorted dictionary:\", sorted_result)\n"
      ],
      "metadata": {
        "colab": {
          "base_uri": "https://localhost:8080/",
          "height": 0
        },
        "id": "v0ibQvWjIUdG",
        "outputId": "acd6f5f6-20de-4087-9df4-be9cbe7d283d"
      },
      "execution_count": 18,
      "outputs": [
        {
          "output_type": "stream",
          "name": "stdout",
          "text": [
            "Enter a dictionary : {'a': 3, 'b': 1, 'c': 2}\n",
            "Sort in descending order? (yes/no): no\n",
            "Sorted dictionary: {'b': 1, 'c': 2, 'a': 3}\n"
          ]
        }
      ]
    },
    {
      "cell_type": "markdown",
      "source": [
        "# 35.Write a code that inverts a dictionary, swapping keys and values. Ensure that the inverted dictionary correctly handles cases where multiple keys have the same value by storing the keys as a list in the inverted dictionary."
      ],
      "metadata": {
        "id": "DYgYWcFcIrSx"
      }
    },
    {
      "cell_type": "code",
      "source": [
        "def invert_dictionary(input_dict):\n",
        "    inverted_dict = {}\n",
        "    for key, value in input_dict.items():\n",
        "        if value in inverted_dict:\n",
        "            inverted_dict[value].append(key)\n",
        "        else:\n",
        "            inverted_dict[value] = [key]\n",
        "    return inverted_dict\n",
        "user_input = eval(input(\"Enter a dictionary : \"))\n",
        "inverted_result = invert_dictionary(user_input)\n",
        "print(\"Inverted dictionary:\", inverted_result)"
      ],
      "metadata": {
        "colab": {
          "base_uri": "https://localhost:8080/",
          "height": 0
        },
        "id": "SE1cHha7IuRN",
        "outputId": "0c139003-49e0-48cd-aad4-027658e1ee46"
      },
      "execution_count": 20,
      "outputs": [
        {
          "output_type": "stream",
          "name": "stdout",
          "text": [
            "Enter a dictionary : {'a': 1, 'b': 2, 'c': 1}\n",
            "Inverted dictionary: {1: ['a', 'c'], 2: ['b']}\n"
          ]
        }
      ]
    }
  ]
}